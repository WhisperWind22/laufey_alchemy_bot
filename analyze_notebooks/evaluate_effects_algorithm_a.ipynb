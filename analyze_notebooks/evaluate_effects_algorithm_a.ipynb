{
 "cells": [
  {
   "cell_type": "code",
   "execution_count": 1,
   "metadata": {},
   "outputs": [],
   "source": [
    "import pandas as pd\n",
    "import sqlite3\n",
    "DB_PATH = \"alchemy.db\"\n",
    "EFFECT_SQL_QUERY = \"\"\"\n",
    "SELECT i.code, e.description, et.\"type\",et.value FROM ingredients AS i\n",
    "join properties props on i.id = props.ingredient_id \n",
    "join effects e on e.id =props.effect_id\n",
    "left join effects_types et on e.id =et.effect_id\n",
    "where i.code =? and props.ingredient_order =?\n",
    "\"\"\"\n",
    "SELECT_BY_EFFECT_TYPE_CODE_NOT_IN = \"\"\"\n",
    "SELECT i.code, props.ingredient_order, e.description, et.\"type\",et.value FROM ingredients AS i\n",
    "join properties props on i.id = props.ingredient_id \n",
    "join effects e on e.id =props.effect_id\n",
    "left join effects_types et on e.id =et.effect_id\n",
    "where i.code not in {ingredients} and et.\"type\" in {effects_types}\n",
    "\"\"\"\n",
    "SELECT_ALL_EFFECTS=\"\"\"\n",
    "SELECT i.code, props.ingredient_order , e.description, et.\"type\",et.value FROM ingredients AS i\n",
    "join properties props on i.id = props.ingredient_id \n",
    "join effects e on e.id =props.effect_id\n",
    "left join effects_types et on e.id =et.effect_id\n",
    "\"\"\"\n",
    "## where et.\"type\" is not Null\n",
    "def split_formula(formula):\n",
    "    return [x[:-1] for x in formula], [int(x[-1]) for x in formula]\n",
    "def get_by_code_order(ingredient_code,ingredient_order,cursor):\n",
    "    cursor.execute(EFFECT_SQL_QUERY,(ingredient_code,ingredient_order))\n",
    "    found_effects = cursor.fetchall()\n",
    "    found_effects_df =pd.DataFrame(data=found_effects,columns=[\"code\",\"description\",\"effect_type\",\"effect_value\"])\n",
    "    return found_effects_df\n",
    "def evaluate_effects(all_effects_df):\n",
    "    other_effects_df = all_effects_df[all_effects_df[\"effect_type\"].isna()]\n",
    "    grouped_effects = list(all_effects_df.groupby(\"effect_type\"))\n",
    "    score = 0\n",
    "    other_effects_len = other_effects_df.shape[0]\n",
    "    if other_effects_len > 4:\n",
    "        score -= 1000\n",
    "    else:\n",
    "        pass\n",
    "        # score -= 100 * other_effects_len\n",
    "        \n",
    "    for effect_type,effect_df in grouped_effects:\n",
    "        effect_value = effect_df[\"effect_value\"].sum()\n",
    "        if effect_value>0:\n",
    "            score+=10\n",
    "        else:\n",
    "            score-=100\n",
    "    return score\n",
    "def get_all_effects(ingredients,ingredients_effects_nums,cursor):\n",
    "    all_effects_df=[]\n",
    "    for ingredient_code,ingredient_effect_i in zip(ingredients,ingredients_effects_nums):\n",
    "        all_effects_df.append(get_by_code_order(ingredient_code=ingredient_code,ingredient_order=ingredient_effect_i,cursor=cursor))\n",
    "    for ingredient_code in ingredients:\n",
    "        all_effects_df.append(get_by_code_order(ingredient_code=ingredient_code,ingredient_order=0,cursor=cursor))\n",
    "    all_effects_df = pd.concat(all_effects_df)\n",
    "    return all_effects_df\n",
    "def get_by_ingredients_with_codes(ingredients_with_codes,cursor):\n",
    "    ingredients = [x[:-1] for x in ingredients_with_codes]\n",
    "    ingredients_effects_nums = [int(x[-1]) for x in ingredients_with_codes]\n",
    "    return get_all_effects(ingredients,ingredients_effects_nums,cursor)\n",
    "def calculate_score_by_formula(formula,cursor):\n",
    "    all_effects_df = get_by_ingredients_with_codes(formula,cursor)\n",
    "    return evaluate_effects(all_effects_df)\n",
    "\n",
    "def potential_candidates_codes_generator_by_effect_type(potential_candidates,effect_type,positive_effects=True):\n",
    "    potential_candidates=potential_candidates[potential_candidates[\"effect_type\"]==effect_type]\n",
    "    if positive_effects:\n",
    "        potential_candidates=potential_candidates[potential_candidates[\"effect_value\"]>=0]\n",
    "    else:\n",
    "        potential_candidates=potential_candidates[potential_candidates[\"effect_value\"]<0]\n",
    "    potential_candidates_codes =potential_candidates[\"code\"].unique()\n",
    "    potential_candidates_codes=[]\n",
    "    for _,row in potential_candidates.iterrows():\n",
    "        if row[\"ingredient_order\"]==0:\n",
    "            potential_candidates_codes.append(row[\"code\"]+\"1\")\n",
    "            potential_candidates_codes.append(row[\"code\"]+\"2\")\n",
    "            potential_candidates_codes.append(row[\"code\"]+\"3\")\n",
    "        else:\n",
    "            potential_candidates_codes.append(row[\"code\"]+str(row[\"ingredient_order\"]))\n",
    "    return potential_candidates_codes\n",
    "\n",
    "def potential_candidates_codes_generator(all_ingredients_effects,formula,positive_effects=True):\n",
    "    ingredients, ingredients_effects_nums = split_formula(formula)\n",
    "    current_ingredients_types= []\n",
    "    for ingredient, ingredient_effect_num in zip(ingredients, ingredients_effects_nums):\n",
    "        _cur_ingredient_effects = all_ingredients_effects[all_ingredients_effects[\"code\"]==ingredient]\n",
    "        main_effect_type = _cur_ingredient_effects[_cur_ingredient_effects[\"ingredient_order\"]==0][\"effect_type\"].values[0]\n",
    "        if main_effect_type is not None:\n",
    "            current_ingredients_types.append(main_effect_type)\n",
    "        minor_effect_type = _cur_ingredient_effects[_cur_ingredient_effects[\"ingredient_order\"]==ingredient_effect_num][\"effect_type\"].values[0]\n",
    "        if minor_effect_type is not None:\n",
    "            current_ingredients_types.append(minor_effect_type)\n",
    "    current_effects_types = list(set(current_ingredients_types))\n",
    "\n",
    "    potential_candidates=all_ingredients_effects[~all_ingredients_effects[\"code\"].isin(ingredients)]\n",
    "    all_candidates = []\n",
    "    for effect_type in current_effects_types:\n",
    "        all_candidates.extend(potential_candidates_codes_generator_by_effect_type(potential_candidates,effect_type,positive_effects=positive_effects))\n",
    "    return all_candidates\n",
    "\n",
    "    \n",
    "def potential_candidates_with_max_score_one_step(all_ingredients_effects,formula,only_max_score=True):\n",
    "    potential_candidates_codes = potential_candidates_codes_generator(all_ingredients_effects,formula)\n",
    "    potential_candidates_scores=[]\n",
    "    for potential_candidate_code in potential_candidates_codes:\n",
    "        potential_candidates_scores.append(calculate_score_by_formula(formula+[potential_candidate_code],cursor))\n",
    "    potential_candidates_scores_df = pd.DataFrame(data={\"code\":potential_candidates_codes,\"score\":potential_candidates_scores})\n",
    "    potential_candidates_scores_df = potential_candidates_scores_df.sort_values(by=\"score\",ascending=False)\n",
    "    max_score = potential_candidates_scores_df[\"score\"].max()\n",
    "    if only_max_score:\n",
    "        potential_candidates_scores_df=potential_candidates_scores_df[potential_candidates_scores_df[\"score\"]==max_score]\n",
    "    return potential_candidates_scores_df\n",
    "    \n",
    "def potential_candidates_with_max_score_several_steps(formula,steps=1,only_max_score=True, all_ingredients_effects=None):\n",
    "    if all_ingredients_effects is None:\n",
    "        cursor.execute(SELECT_ALL_EFFECTS)\n",
    "        all_ingredients_effects = cursor.fetchall()\n",
    "        all_ingredients_effects = pd.DataFrame(data=all_ingredients_effects, columns=[\"code\",\"ingredient_order\",\"description\",\"effect_type\",\"effect_value\"])\n",
    "\n",
    "    result = set()\n",
    "    step_candidates = potential_candidates_with_max_score_one_step(all_ingredients_effects,formula,only_max_score=only_max_score)[\"code\"].values.tolist()\n",
    "    formulas = [formula+[x] for x in step_candidates]\n",
    "    formulas = set([frozenset(x) for x in formulas])\n",
    "    if steps >1:\n",
    "        for current_formula in formulas:\n",
    "            cur_res=potential_candidates_with_max_score_several_steps(list(current_formula),steps-1,only_max_score=only_max_score, all_ingredients_effects=all_ingredients_effects)\n",
    "            cur_res = set([frozenset(x) for x in cur_res])\n",
    "            result = result.union(cur_res)\n",
    "    else:\n",
    "        result = formulas\n",
    "    result = [list(x) for x in result]\n",
    "    return result\n",
    "    \n",
    "conn = sqlite3.connect(DB_PATH)\n",
    "cursor = conn.cursor()\n"
   ]
  },
  {
   "cell_type": "code",
   "execution_count": 3,
   "metadata": {},
   "outputs": [],
   "source": [
    "\n",
    "formula = [\n",
    "    # \"MER1\",\n",
    "    \"YN2\",\"TD1\"]\n",
    "\n",
    "# ingredients, ingredients_effects_nums = split_formula(formula)\n"
   ]
  },
  {
   "cell_type": "code",
   "execution_count": null,
   "metadata": {},
   "outputs": [],
   "source": []
  },
  {
   "cell_type": "code",
   "execution_count": 3,
   "metadata": {},
   "outputs": [],
   "source": [
    "all_effects_df = get_all_effects(ingredients,ingredients_effects_nums,cursor)"
   ]
  },
  {
   "cell_type": "code",
   "execution_count": 4,
   "metadata": {},
   "outputs": [],
   "source": [
    "current_effect_groups = [x for x in all_effects_df['effect_type'].unique() if x is not None]\n",
    "if len(current_effect_groups)==1:\n",
    "    current_effect_groups = (current_effect_groups[0],current_effect_groups[0])"
   ]
  },
  {
   "cell_type": "code",
   "execution_count": 5,
   "metadata": {},
   "outputs": [
    {
     "data": {
      "text/plain": [
       "('яд', 'яд')"
      ]
     },
     "execution_count": 5,
     "metadata": {},
     "output_type": "execute_result"
    }
   ],
   "source": [
    "current_effect_groups"
   ]
  },
  {
   "cell_type": "code",
   "execution_count": null,
   "metadata": {},
   "outputs": [],
   "source": []
  },
  {
   "cell_type": "code",
   "execution_count": 6,
   "metadata": {},
   "outputs": [],
   "source": [
    "query = SELECT_BY_EFFECT_TYPE_CODE_NOT_IN.format(ingredients=tuple(ingredients),effects_types=current_effect_groups)\n",
    "cursor.execute(query)\n",
    "all_ingredients_effects = cursor.fetchall()\n",
    "all_ingredients_effects = pd.DataFrame(data=all_ingredients_effects, columns=[\"code\",\"ingredient_order\",\"description\",\"effect_type\",\"effect_value\"])"
   ]
  },
  {
   "cell_type": "code",
   "execution_count": 7,
   "metadata": {},
   "outputs": [],
   "source": [
    "cursor.execute(SELECT_ALL_EFFECTS)\n",
    "all_ingredients_effects = cursor.fetchall()\n",
    "all_ingredients_effects = pd.DataFrame(data=all_ingredients_effects, columns=[\"code\",\"ingredient_order\",\"description\",\"effect_type\",\"effect_value\"])"
   ]
  },
  {
   "cell_type": "code",
   "execution_count": 47,
   "metadata": {},
   "outputs": [],
   "source": []
  },
  {
   "cell_type": "code",
   "execution_count": 8,
   "metadata": {},
   "outputs": [
    {
     "data": {
      "text/plain": [
       "[['TD1', 'HV1', 'VZ3', 'YN2'],\n",
       " ['RK1', 'TD1', 'YN2', 'HV1'],\n",
       " ['RK1', 'TD1', 'VZ3', 'YN2']]"
      ]
     },
     "execution_count": 8,
     "metadata": {},
     "output_type": "execute_result"
    }
   ],
   "source": [
    "potential_candidates_with_max_score_several_steps(formula,steps=2,only_max_score=True)"
   ]
  },
  {
   "cell_type": "code",
   "execution_count": 9,
   "metadata": {},
   "outputs": [
    {
     "data": {
      "text/html": [
       "<div>\n",
       "<style scoped>\n",
       "    .dataframe tbody tr th:only-of-type {\n",
       "        vertical-align: middle;\n",
       "    }\n",
       "\n",
       "    .dataframe tbody tr th {\n",
       "        vertical-align: top;\n",
       "    }\n",
       "\n",
       "    .dataframe thead th {\n",
       "        text-align: right;\n",
       "    }\n",
       "</style>\n",
       "<table border=\"1\" class=\"dataframe\">\n",
       "  <thead>\n",
       "    <tr style=\"text-align: right;\">\n",
       "      <th></th>\n",
       "      <th>code</th>\n",
       "      <th>description</th>\n",
       "      <th>effect_type</th>\n",
       "      <th>effect_value</th>\n",
       "    </tr>\n",
       "  </thead>\n",
       "  <tbody>\n",
       "    <tr>\n",
       "      <th>0</th>\n",
       "      <td>YN</td>\n",
       "      <td>разрушает энергетические потоки (при силе 20 р...</td>\n",
       "      <td>None</td>\n",
       "      <td>None</td>\n",
       "    </tr>\n",
       "    <tr>\n",
       "      <th>0</th>\n",
       "      <td>TD</td>\n",
       "      <td>разжигает манию величия</td>\n",
       "      <td>None</td>\n",
       "      <td>None</td>\n",
       "    </tr>\n",
       "    <tr>\n",
       "      <th>0</th>\n",
       "      <td>YN</td>\n",
       "      <td>смертельный яд</td>\n",
       "      <td>яд</td>\n",
       "      <td>-4</td>\n",
       "    </tr>\n",
       "    <tr>\n",
       "      <th>0</th>\n",
       "      <td>TD</td>\n",
       "      <td>клептомания и тяга ко всему блестящему</td>\n",
       "      <td>None</td>\n",
       "      <td>None</td>\n",
       "    </tr>\n",
       "  </tbody>\n",
       "</table>\n",
       "</div>"
      ],
      "text/plain": [
       "  code                                        description effect_type  \\\n",
       "0   YN  разрушает энергетические потоки (при силе 20 р...        None   \n",
       "0   TD                            разжигает манию величия        None   \n",
       "0   YN                                     смертельный яд          яд   \n",
       "0   TD             клептомания и тяга ко всему блестящему        None   \n",
       "\n",
       "  effect_value  \n",
       "0         None  \n",
       "0         None  \n",
       "0           -4  \n",
       "0         None  "
      ]
     },
     "execution_count": 9,
     "metadata": {},
     "output_type": "execute_result"
    }
   ],
   "source": [
    "get_by_ingredients_with_codes"
   ]
  }
 ],
 "metadata": {
  "kernelspec": {
   "display_name": "laufey-alchemy-bot-aQCVQWk7-py3.12",
   "language": "python",
   "name": "python3"
  },
  "language_info": {
   "codemirror_mode": {
    "name": "ipython",
    "version": 3
   },
   "file_extension": ".py",
   "mimetype": "text/x-python",
   "name": "python",
   "nbconvert_exporter": "python",
   "pygments_lexer": "ipython3",
   "version": "3.12.7"
  }
 },
 "nbformat": 4,
 "nbformat_minor": 2
}
